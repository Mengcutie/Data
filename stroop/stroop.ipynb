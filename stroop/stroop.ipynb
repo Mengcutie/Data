{
 "cells": [
  {
   "cell_type": "markdown",
   "metadata": {},
   "source": [
    "# Stroop effect 项目"
   ]
  },
  {
   "cell_type": "markdown",
   "metadata": {},
   "source": [
    "# 统计学：决策的科学项目说明"
   ]
  },
  {
   "cell_type": "markdown",
   "metadata": {},
   "source": [
    "# 背景信息\n",
    "\n",
    "在一个 Stroop （斯特鲁普）任务中，参与者得到了一列文字，每个文字都用一种油墨颜色展示。参与者的任务是将文字的打印颜色大声说出来。这项任务有两个条件：一致文字条件，和不一致文字条件。在一致文字条件中，显示的文字是与它们的打印颜色匹配的颜色词，如“红色”、“蓝色”。在不一致文字条件中，显示的文字是与它们的打印颜色不匹配的颜色词，如“紫色”、“橙色”。在每个情况中，我们将计量说出同等大小的列表中的墨色名称的时间。每位参与者必须全部完成并记录每种条件下使用的时间。"
   ]
  },
  {
   "cell_type": "markdown",
   "metadata": {},
   "source": [
    "# 调查问题"
   ]
  },
  {
   "cell_type": "markdown",
   "metadata": {},
   "source": [
    "**1.我们的自变量是什么？因变量是什么？**\n",
    "\n",
    "**2.此任务的适当假设集是什么？你需要以文字和数学符号方式对假设集中的零假设和对立假设加以说明，并对数学符号进行定义。你想执行什么类型的统计检验？为你的选择提供正当理由（比如，为何该实验满足你所选统计检验的前置条件）。**\n"
   ]
  },
  {
   "cell_type": "markdown",
   "metadata": {},
   "source": [
    "1.\n",
    "自变量是: 测试一组数据的颜色和文字是否匹配。\n",
    "\n",
    "因变量是：参与者完成一组测试用了多少时间。"
   ]
  },
  {
   "cell_type": "markdown",
   "metadata": {},
   "source": [
    "实验地址：https://faculty.washington.edu/chudler/java/ready.html"
   ]
  },
  {
   "cell_type": "markdown",
   "metadata": {},
   "source": [
    "2.\n",
    "$\\mu_con$：表示总体测试数据的颜色和文字匹配结果的平均时间。'\n",
    "\n",
    "$\\mu_incon$：表示总体测试数据的颜色和文字不匹配结果的平均时间。"
   ]
  },
  {
   "cell_type": "markdown",
   "metadata": {},
   "source": [
    "零假设 $H_0$：不支持Stroop Effect, 认为两组数据（颜色和文字匹配，颜色和文字不匹配)中测试参与者的反应时间不会由于自变量不同而发生变化。\n",
    "\n",
    "$H_0$: $\\mu_con-\\mu_incon$=0"
   ]
  },
  {
   "cell_type": "markdown",
   "metadata": {},
   "source": [
    "备择假设 $H_1$：支持Stroop Effect，即因为颜色和文字不同，参与测试的人完成测试的时间会变长。\n",
    "\n",
    "$H_1$:$\\mu_con-\\mu_incon<0$。"
   ]
  },
  {
   "cell_type": "markdown",
   "metadata": {},
   "source": [
    "在这里，选择t检验，因为选择的数据集样本呈正太分布，样本量较少；并且，在t检验的类型中，选择配对t检验，因为它适合两组相关数据的组内设计比较（即每个实验参与者都接受所有实验处理），而每名参与者在这个实验中只有两个情况（颜色与文字相同和不同），这两种情况中的测试时间可能都受到这名参与者本身正常的反应时间影响，所以这两组样本属于相关样本。"
   ]
  },
  {
   "cell_type": "markdown",
   "metadata": {},
   "source": [
    "**3.报告关于此数据集的一些描述性统计。包含至少一个集中趋势测量和至少一个变异测量。**"
   ]
  },
  {
   "cell_type": "markdown",
   "metadata": {},
   "source": [
    "**首先导入库，数据集stroopdata.csv和加载前几行。**"
   ]
  },
  {
   "cell_type": "code",
   "execution_count": 1,
   "metadata": {},
   "outputs": [],
   "source": [
    "import pandas as pd\n",
    "import numpy as np\n",
    "import scipy.stats as stats\n",
    "import matplotlib.pyplot as plt"
   ]
  },
  {
   "cell_type": "code",
   "execution_count": 2,
   "metadata": {},
   "outputs": [
    {
     "data": {
      "text/html": [
       "<div>\n",
       "<style scoped>\n",
       "    .dataframe tbody tr th:only-of-type {\n",
       "        vertical-align: middle;\n",
       "    }\n",
       "\n",
       "    .dataframe tbody tr th {\n",
       "        vertical-align: top;\n",
       "    }\n",
       "\n",
       "    .dataframe thead th {\n",
       "        text-align: right;\n",
       "    }\n",
       "</style>\n",
       "<table border=\"1\" class=\"dataframe\">\n",
       "  <thead>\n",
       "    <tr style=\"text-align: right;\">\n",
       "      <th></th>\n",
       "      <th>Congruent</th>\n",
       "      <th>Incongruent</th>\n",
       "    </tr>\n",
       "  </thead>\n",
       "  <tbody>\n",
       "    <tr>\n",
       "      <th>0</th>\n",
       "      <td>12.079</td>\n",
       "      <td>19.278</td>\n",
       "    </tr>\n",
       "    <tr>\n",
       "      <th>1</th>\n",
       "      <td>16.791</td>\n",
       "      <td>18.741</td>\n",
       "    </tr>\n",
       "    <tr>\n",
       "      <th>2</th>\n",
       "      <td>9.564</td>\n",
       "      <td>21.214</td>\n",
       "    </tr>\n",
       "    <tr>\n",
       "      <th>3</th>\n",
       "      <td>8.630</td>\n",
       "      <td>15.687</td>\n",
       "    </tr>\n",
       "    <tr>\n",
       "      <th>4</th>\n",
       "      <td>14.669</td>\n",
       "      <td>22.803</td>\n",
       "    </tr>\n",
       "  </tbody>\n",
       "</table>\n",
       "</div>"
      ],
      "text/plain": [
       "   Congruent  Incongruent\n",
       "0     12.079       19.278\n",
       "1     16.791       18.741\n",
       "2      9.564       21.214\n",
       "3      8.630       15.687\n",
       "4     14.669       22.803"
      ]
     },
     "execution_count": 2,
     "metadata": {},
     "output_type": "execute_result"
    }
   ],
   "source": [
    "df=pd.read_csv('stroopdata.csv')\n",
    "df.head()"
   ]
  },
  {
   "cell_type": "code",
   "execution_count": 3,
   "metadata": {},
   "outputs": [
    {
     "data": {
      "text/plain": [
       "(24, 2)"
      ]
     },
     "execution_count": 3,
     "metadata": {},
     "output_type": "execute_result"
    }
   ],
   "source": [
    "df.shape"
   ]
  },
  {
   "cell_type": "markdown",
   "metadata": {},
   "source": [
    "**现在开始集中趋势的测量。**\n",
    "\n",
    "（计算平均值和中位数。）"
   ]
  },
  {
   "cell_type": "code",
   "execution_count": 4,
   "metadata": {},
   "outputs": [
    {
     "data": {
      "text/plain": [
       "Congruent      14.051125\n",
       "Incongruent    22.015917\n",
       "dtype: float64"
      ]
     },
     "execution_count": 4,
     "metadata": {},
     "output_type": "execute_result"
    }
   ],
   "source": [
    "#计算平均数\n",
    "df_mean = df.mean()\n",
    "df_mean"
   ]
  },
  {
   "cell_type": "code",
   "execution_count": 5,
   "metadata": {},
   "outputs": [
    {
     "data": {
      "text/plain": [
       "-7.964791666666665"
      ]
     },
     "execution_count": 5,
     "metadata": {},
     "output_type": "execute_result"
    }
   ],
   "source": [
    "df_mean['Congruent']-df_mean['Incongruent'] #计算两列平均数的差值"
   ]
  },
  {
   "cell_type": "markdown",
   "metadata": {},
   "source": [
    "两列数据（匹配和不匹配）的平均值相差7.9648"
   ]
  },
  {
   "cell_type": "code",
   "execution_count": 6,
   "metadata": {},
   "outputs": [
    {
     "data": {
      "text/plain": [
       "Congruent      14.3565\n",
       "Incongruent    21.0175\n",
       "dtype: float64"
      ]
     },
     "execution_count": 6,
     "metadata": {},
     "output_type": "execute_result"
    }
   ],
   "source": [
    "#计算中位数\n",
    "median=df.median()\n",
    "median"
   ]
  },
  {
   "cell_type": "code",
   "execution_count": 7,
   "metadata": {},
   "outputs": [
    {
     "data": {
      "text/plain": [
       "-6.660999999999998"
      ]
     },
     "execution_count": 7,
     "metadata": {},
     "output_type": "execute_result"
    }
   ],
   "source": [
    "median['Congruent']-median['Incongruent'] #计算两列中位数的差值"
   ]
  },
  {
   "cell_type": "markdown",
   "metadata": {},
   "source": [
    "两列数据（匹配和不匹配）的中位数相差6.6610"
   ]
  },
  {
   "cell_type": "markdown",
   "metadata": {},
   "source": [
    "然后来看变异测量。\n",
    "\n",
    "(计算极差，方差，标准差。)"
   ]
  },
  {
   "cell_type": "code",
   "execution_count": 8,
   "metadata": {},
   "outputs": [
    {
     "data": {
      "text/plain": [
       "Congruent      22.328\n",
       "Incongruent    35.255\n",
       "dtype: float64"
      ]
     },
     "execution_count": 8,
     "metadata": {},
     "output_type": "execute_result"
    }
   ],
   "source": [
    "df_max=df.max() #计算最小值\n",
    "df_max"
   ]
  },
  {
   "cell_type": "code",
   "execution_count": 9,
   "metadata": {},
   "outputs": [
    {
     "data": {
      "text/plain": [
       "Congruent       8.630\n",
       "Incongruent    15.687\n",
       "dtype: float64"
      ]
     },
     "execution_count": 9,
     "metadata": {},
     "output_type": "execute_result"
    }
   ],
   "source": [
    "df_min=df.min() #计算最小值\n",
    "df_min"
   ]
  },
  {
   "cell_type": "code",
   "execution_count": 10,
   "metadata": {},
   "outputs": [
    {
     "data": {
      "text/plain": [
       "13.698000000000002"
      ]
     },
     "execution_count": 10,
     "metadata": {},
     "output_type": "execute_result"
    }
   ],
   "source": [
    "df_max['Congruent']-df_min['Congruent'] #计算匹配列的极差"
   ]
  },
  {
   "cell_type": "code",
   "execution_count": 11,
   "metadata": {},
   "outputs": [
    {
     "data": {
      "text/plain": [
       "19.568"
      ]
     },
     "execution_count": 11,
     "metadata": {},
     "output_type": "execute_result"
    }
   ],
   "source": [
    "df_max['Incongruent']-df_min['Incongruent'] #计算不匹配列的极差"
   ]
  },
  {
   "cell_type": "markdown",
   "metadata": {},
   "source": [
    "匹配列的极差为13.698，不匹配列的极差为19.568"
   ]
  },
  {
   "cell_type": "code",
   "execution_count": 12,
   "metadata": {},
   "outputs": [
    {
     "data": {
      "text/plain": [
       "Congruent      12.669029\n",
       "Incongruent    23.011757\n",
       "dtype: float64"
      ]
     },
     "execution_count": 12,
     "metadata": {},
     "output_type": "execute_result"
    }
   ],
   "source": [
    "df_var=df.var() #计算方差\n",
    "df_var"
   ]
  },
  {
   "cell_type": "code",
   "execution_count": 13,
   "metadata": {},
   "outputs": [
    {
     "data": {
      "text/plain": [
       "-10.34272796557971"
      ]
     },
     "execution_count": 13,
     "metadata": {},
     "output_type": "execute_result"
    }
   ],
   "source": [
    "df_var['Congruent']-df_var['Incongruent'] #计算两列方差差值"
   ]
  },
  {
   "cell_type": "markdown",
   "metadata": {},
   "source": [
    "匹配列的方差为12.669，不匹配的方差为23.012,两列的方差相差10.3427"
   ]
  },
  {
   "cell_type": "code",
   "execution_count": 14,
   "metadata": {},
   "outputs": [
    {
     "data": {
      "text/plain": [
       "Congruent      3.559358\n",
       "Incongruent    4.797057\n",
       "dtype: float64"
      ]
     },
     "execution_count": 14,
     "metadata": {},
     "output_type": "execute_result"
    }
   ],
   "source": [
    "df_std=df.std()   #计算标准差\n",
    "df_std"
   ]
  },
  {
   "cell_type": "code",
   "execution_count": 15,
   "metadata": {},
   "outputs": [
    {
     "data": {
      "text/plain": [
       "-1.2376991648239426"
      ]
     },
     "execution_count": 15,
     "metadata": {},
     "output_type": "execute_result"
    }
   ],
   "source": [
    "df_std['Congruent']-df_std['Incongruent']    #计算两列标准差差值"
   ]
  },
  {
   "cell_type": "markdown",
   "metadata": {},
   "source": [
    "匹配列的标准差为3.5594，不匹配的标准差为4.7971,两列的标准差相差1.2377"
   ]
  },
  {
   "cell_type": "markdown",
   "metadata": {},
   "source": [
    "**4.\n",
    "提供显示样本数据分布的一个或两个可视化。用一两句话说明你从图中观察到的结果。**"
   ]
  },
  {
   "cell_type": "code",
   "execution_count": 16,
   "metadata": {},
   "outputs": [
    {
     "data": {
      "image/png": "[encoded data removed]",
      "text/plain": [
       "<Figure size 864x864 with 1 Axes>"
      ]
     },
     "metadata": {},
     "output_type": "display_data"
    }
   ],
   "source": [
    "df.diff().plot(kind='bar',figsize=(12,12)); #绘制差集直方图"
   ]
  },
  {
   "cell_type": "code",
   "execution_count": 17,
   "metadata": {},
   "outputs": [
    {
     "data": {
      "image/png": "[encoded data removed]",
      "text/plain": [
       "<Figure size 648x648 with 1 Axes>"
      ]
     },
     "metadata": {},
     "output_type": "display_data"
    }
   ],
   "source": [
    "df.mean().plot(kind='bar',figsize=(9,9)); #看看两列数据的平均值分布情况"
   ]
  },
  {
   "cell_type": "markdown",
   "metadata": {},
   "source": [
    "画两列的正态分布直方图和折线图"
   ]
  },
  {
   "cell_type": "code",
   "execution_count": 18,
   "metadata": {},
   "outputs": [
    {
     "name": "stderr",
     "output_type": "stream",
     "text": [
      "C:\\Users\\Administrator\\Anaconda3\\lib\\site-packages\\matplotlib\\axes\\_axes.py:6462: UserWarning: The 'normed' kwarg is deprecated, and has been replaced by the 'density' kwarg.\n",
      "  warnings.warn(\"The 'normed' kwarg is deprecated, and has been \"\n"
     ]
    },
    {
     "data": {
      "image/png": "[encoded data removed]",
      "text/plain": [
       "<Figure size 432x288 with 1 Axes>"
      ]
     },
     "metadata": {},
     "output_type": "display_data"
    }
   ],
   "source": [
    "len(df)\n",
    "con=df['Congruent']\n",
    "incon=df['Incongruent']\n",
    "con_mean=con.mean()\n",
    "con_mean\n",
    "incon_mean=incon.mean()\n",
    "incon_mean\n",
    "con_std=con.std()\n",
    "con_std\n",
    "incon_std=incon.std()\n",
    "incon_std\n",
    "\n",
    "#normfun正态分布函数，mu: 均值，sigma:标准差，pdf:概率密度函数，np.exp():概率密度函数公式\n",
    "def normfun(x,mu, sigma):\n",
    "    pdf = np.exp(-((x - mu)**2) / (2* sigma**2)) / (sigma * np.sqrt(2*np.pi))\n",
    "    return pdf\n",
    "x = np.arange(0, 50, 4)\n",
    "\n",
    "# x数对应的概率密度\n",
    "y1 = normfun(x, con_mean, con_std)\n",
    "y2 = normfun(x, incon_mean, incon_std)\n",
    "\n",
    "# 参数,颜色，线宽\n",
    "plt.plot(x,y1,color='g',linewidth = 3)\n",
    "plt.plot(x,y2,color='g',linewidth = 3)\n",
    "\n",
    "#数据，数组，颜色，颜色深浅，组宽，显示频率\n",
    "plt.hist(con,bins =7, color = 'r',alpha=0.5,rwidth= 0.9, normed=True)\n",
    "plt.hist(incon, bins =7, color = 'b',alpha=0.5,rwidth= 0.9, normed=True)\n",
    "\n",
    "plt.title('normal distribution')\n",
    "plt.xlabel('congruent and incongruent')\n",
    "plt.ylabel('time')\n",
    "plt.show()\n"
   ]
  },
  {
   "cell_type": "markdown",
   "metadata": {},
   "source": [
    "从以上图形可以看出，图形基本满足正态分布，除了少数变异值（也在正常范围内）。"
   ]
  },
  {
   "cell_type": "markdown",
   "metadata": {},
   "source": [
    "**5.现在，执行统计测试并报告你的结果。你的置信水平和关键统计值是多少？你是否成功拒绝零假设？对试验任务得出一个结论。结果是否与你的期望一致？**"
   ]
  },
  {
   "cell_type": "code",
   "execution_count": 25,
   "metadata": {},
   "outputs": [
    {
     "data": {
      "text/plain": [
       "(24, 2)"
      ]
     },
     "execution_count": 25,
     "metadata": {},
     "output_type": "execute_result"
    }
   ],
   "source": [
    "df.shape #算出n"
   ]
  },
  {
   "cell_type": "markdown",
   "metadata": {},
   "source": [
    "**在这里选择95%的置信水平，自由度为：df=n-1=23，根据t-table，df=23的t临界值为-2.069。**"
   ]
  },
  {
   "cell_type": "markdown",
   "metadata": {},
   "source": [
    "**现在，算出配对t测试情况下的t值**"
   ]
  },
  {
   "cell_type": "code",
   "execution_count": 27,
   "metadata": {},
   "outputs": [
    {
     "data": {
      "text/plain": [
       "Ttest_relResult(statistic=-8.020706944109957, pvalue=4.103000585711178e-08)"
      ]
     },
     "execution_count": 27,
     "metadata": {},
     "output_type": "execute_result"
    }
   ],
   "source": [
    "con = df['Congruent'].values.tolist()\n",
    "incon = df['Incongruent'].values.tolist()\n",
    "\n",
    "# Perform ttest\n",
    "stats.ttest_rel(con, incon)"
   ]
  },
  {
   "cell_type": "markdown",
   "metadata": {},
   "source": [
    "t统计值= -8.0207，当自由度为23时，t临界值为$t_critical$=-2.069， t统计值小于t临界值，所以t值在临界内；而p值小于显著性水平0.05，因此拒绝零假设，不否认存在stroop effect。"
   ]
  },
  {
   "cell_type": "markdown",
   "metadata": {},
   "source": [
    "**6.你觉得导致所观察到的效应的原因是什么？你是否能想到会取得类似效应的替代或类似任务？**"
   ]
  },
  {
   "cell_type": "markdown",
   "metadata": {},
   "source": [
    "从1935年Riddly Stroop研究提出了stroop effect这个现象以后，它开始进入了人们的视线中。经过了这么多年的发展，它已经不是一个新事物，早已在医学界神经心理学被大量研究和广泛运用，其中，干扰控制效应引发了很多争论，Cohen的PDP（Parallel Distributed Processing)模型对干扰控制效应作出了进一步的说明，所以Stroop effect成立的原因很大程度上和干扰控制效应有关，如果环境会对人有一定的干扰，人们的认知很难不受到干扰，所以当出现颜色和文字不一致时，人们可能会收到双重干扰。\n",
    "\n",
    "可以替代的任务有心理旋转实验，心理旋转实验；它是随机选取数字或字母作为实验材料，以它们不同的角度随机呈现给参与者，让参与者判断是正还是反， 然后记录下他们的反应时间。\n"
   ]
  },
  {
   "cell_type": "markdown",
   "metadata": {},
   "source": [
    "7.参考文献：\n",
    "\n"
   ]
  },
  {
   "cell_type": "markdown",
   "metadata": {},
   "source": [
    "https://www.statisticshowto.datasciencecentral.com/probability-and-statistics/confidence-interval/ how to find a confidence level?\n",
    "\n",
    "https://baike.baidu.com/item/%E5%BF%83%E7%90%86%E6%97%8B%E8%BD%AC%E5%AE%9E%E9%AA%8C/975678?fr=aladdin 心理旋转实验\n",
    "\n",
    "Stroop JR. Studies of interference on serial verbal reactions[J]. Journal of Experimental Psychology. 1935:\n",
    "18, 643-662.\n",
    "\n",
    "https://support.minitab.com/zh-cn/minitab/18/help-and-how-to/statistics/basic-statistics/supporting-topics/tests-of-means/how-are-dependent-and-independent-samples-different/ 相关样本和独立样本有何不同？\n",
    "\n",
    "https://support.minitab.com/zh-cn/minitab/18/help-and-how-to/statistics/basic-statistics/supporting-topics/tests-of-means/types-of-t-tests/ 检验的类型\n",
    "\n",
    "https://blog.csdn.net/claroja/article/details/65445063 Pandas描述统计函数 \n",
    "\n",
    "https://faculty.washington.edu/chudler/java/ready.html Stroop effect实验小程序\n",
    "\n",
    "https://www.statisticshowto.datasciencecentral.com/tables/t-distribution-table/  t-distribution table\n",
    "\n",
    "https://docs.scipy.org/doc/scipy/reference/generated/scipy.stats.ttest_rel.html scipy.stats.ttest_rel"
   ]
  },
  {
   "cell_type": "code",
   "execution_count": null,
   "metadata": {},
   "outputs": [],
   "source": []
  }
 ],
 "metadata": {
  "kernelspec": {
   "display_name": "Python 3",
   "language": "python",
   "name": "python3"
  },
  "language_info": {
   "codemirror_mode": {
    "name": "ipython",
    "version": 3
   },
   "file_extension": ".py",
   "mimetype": "text/x-python",
   "name": "python",
   "nbconvert_exporter": "python",
   "pygments_lexer": "ipython3",
   "version": "3.6.5"
  }
 },
 "nbformat": 4,
 "nbformat_minor": 2
}
